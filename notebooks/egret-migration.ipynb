{
 "cells": [
  {
   "cell_type": "markdown",
   "id": "e5a57add",
   "metadata": {},
   "source": [
    "# Title\n",
    "\n",
    "## Species description\n",
    "\n",
    "## Data description\n",
    "\n",
    "## Methods descriptions\n",
    "\n",
    "<embed type=\"text/html\" src=\"NameOfhtmlHere.html\" width=\"900\" height=\"900\">\n",
    "\n",
    "## Plot headline\n"
   ]
  }
 ],
 "metadata": {
  "kernelspec": {
   "display_name": "base",
   "language": "python",
   "name": "python3"
  },
  "language_info": {
   "name": "python",
   "version": "3.11.6"
  }
 },
 "nbformat": 4,
 "nbformat_minor": 5
}
