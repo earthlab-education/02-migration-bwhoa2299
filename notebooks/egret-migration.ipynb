{
 "cells": [
  {
   "cell_type": "markdown",
   "id": "e5a57add",
   "metadata": {},
   "source": [
    "# 2023 Migration Patterns of the Cattle Egret (Bubulcus ibis)\n",
    "\n",
    "## Species description\n",
    "The cattle egret is a strongly migratory bird that gets its name from its tendency to associate closely with grazing animals. It also is well-adapted to many diverse habitats, including urban areas, and therefore has become a cosmopolitan species inhabiting parts of almost every continent. Despite its migratory nature, it can be difficult to differentiate between migration and dispersal in cattle egrets because they have a high tendency to wander. However, it is known that cattle egrets generally migrate from North American breeding areas south to Central and South America in the winter and from Australia to areas like Tasmania and New Zealand in the winter as well (Ivory, n.d.).\n",
    "\n",
    "## Data description\n",
    "The data used to plot cattle egret migration patterns comes from ecoregion and GBIF data. The ecoregion dataset was from 2017 and provides the study area for the egret migration data. Generally, ecoregions are areas where ecosystems are similar in terms of their composition of abiotic and biotic phenomena (US EPA, 2019), and they are visible as polygons in the plot. The GBIF dataset comes from the Global Biodiversity Information Facility, and is compiled from 2023 citizen science observations of cattle egret (GBIF.org, 2025). It therefore may not be completely accurate, but enough community observations recorded over time allow it to provide a good estimate of egret migration patterns in relation to ecoregion.\n",
    "\n",
    "## Methods description\n",
    "Ecoregion and GBIF datasets were first downloaded and loaded into Python. Python was then used to convert these datasets to GeoDataFrames, normalize the number of egret occurrences by ecoregion and month, and plot the normalized occurrences according to ecoregion and month.\n",
    "\n",
    "<embed type=\"text/html\" src=\"egret-migration.html\" width=\"900\" height=\"900\">\n",
    "\n",
    "## 2023 Cattle Egret Migration Plot\n",
    "This plot shows global migration patterns of cattle egret by month in 2023. I was hoping to use this information to discover more specific patterns within the chaotic and widespread migration behavior of the cattle egret, and perhaps even determine where the bird might travel for migration purposes vs wandering or other dispersal. The widespread nature of this species makes such a plot generated from occurrences hard to interpret, however. While migratory patterns are visible, such as a gradual shift of occurrences from central Africa to southern Europe corresponding with the change from winter to summer months, specific drivers of travel patterns remain a mystery and require further research and data analysis.\n",
    "\n",
    "## References\n",
    "GBIF.org (29 October 2025) GBIF Occurrence Download  https://doi.org/10.15468/dl.8awfz7\n",
    "\n",
    "Ivory, A. (n.d.). Bubulcus ibis (cattle egret). Animal Diversity Web. https://animaldiversity.org/accounts/Bubulcus_ibis/\n",
    "\n",
    "US EPA. (2019, February 13). Ecoregions | US EPA. US EPA. https://www.epa.gov/eco-research/ecoregions"
   ]
  }
 ],
 "metadata": {
  "kernelspec": {
   "display_name": "base",
   "language": "python",
   "name": "python3"
  },
  "language_info": {
   "name": "python",
   "version": "3.11.6"
  }
 },
 "nbformat": 4,
 "nbformat_minor": 5
}
